{
  "nbformat": 4,
  "nbformat_minor": 0,
  "metadata": {
    "colab": {
      "name": "Untitled8.ipynb",
      "provenance": [],
      "authorship_tag": "ABX9TyPqj7ctg9z96f3+ZcjNqWIi",
      "include_colab_link": true
    },
    "kernelspec": {
      "name": "python3",
      "display_name": "Python 3"
    }
  },
  "cells": [
    {
      "cell_type": "markdown",
      "metadata": {
        "id": "view-in-github",
        "colab_type": "text"
      },
      "source": [
        "<a href=\"https://colab.research.google.com/github/Nath0707/Introduccion_a_Python-Curso_Online/blob/main/Untitled8.ipynb\" target=\"_parent\"><img src=\"https://colab.research.google.com/assets/colab-badge.svg\" alt=\"Open In Colab\"/></a>"
      ]
    },
    {
      "cell_type": "code",
      "metadata": {
        "colab": {
          "base_uri": "https://localhost:8080/"
        },
        "id": "WhLHRd8PAF7i",
        "outputId": "a9b54ed0-4a59-455d-822e-8f3977e14f37"
      },
      "source": [
        "#Se importa libreria numpy con el \"apodo\" np\r\n",
        "import numpy as np\r\n",
        "a = [1,2,3]\r\n",
        "print(type(a))\r\n",
        "#print(3 * a)\r\n",
        "#print(a+a)\r\n",
        "a = np.array(a) # Esta funcion permite manejar a \"a\" como un vector\r\n",
        "print(type(a))\r\n",
        "print(3 * a)\r\n",
        "print(a+a)"
      ],
      "execution_count": 1,
      "outputs": [
        {
          "output_type": "stream",
          "text": [
            "<class 'list'>\n",
            "<class 'numpy.ndarray'>\n",
            "[3 6 9]\n",
            "[2 4 6]\n"
          ],
          "name": "stdout"
        }
      ]
    },
    {
      "cell_type": "code",
      "metadata": {
        "colab": {
          "base_uri": "https://localhost:8080/"
        },
        "id": "8QzElCyoAYta",
        "outputId": "a93eb366-ec59-4539-8d0a-468d32070a76"
      },
      "source": [
        "Diez = np.linspace(1,10,100)\r\n",
        "#print(Diez)\r\n",
        "Ceros = np.zeros(3)\r\n",
        "print(Ceros)"
      ],
      "execution_count": 2,
      "outputs": [
        {
          "output_type": "stream",
          "text": [
            "[0. 0. 0.]\n"
          ],
          "name": "stdout"
        }
      ]
    },
    {
      "cell_type": "code",
      "metadata": {
        "colab": {
          "base_uri": "https://localhost:8080/"
        },
        "id": "CaN1ESFXAwCe",
        "outputId": "e80b6607-7c64-4979-d77c-879f49713ba5"
      },
      "source": [
        "b = np.array([-1,-60,12,3.5,2,3,3])\r\n",
        "Min = np.amin(b) # Obtengo el valor minimo del vector \"b\" \r\n",
        "print(Min)\r\n",
        "Max = np.amax(b) # Obtengo el valor minimo del vector \"b\"\r\n",
        "print(Max)\r\n",
        "Donde_3_5 = np.where(b == 3.5) # Nos indica en que posicion del vector \"b\"  se cumple que sea igual a 3.5 \r\n",
        "print(Donde_3_5)\r\n",
        "Donde_3 = np.where(b == 3)\r\n",
        "print(Donde_3)"
      ],
      "execution_count": 3,
      "outputs": [
        {
          "output_type": "stream",
          "text": [
            "-60.0\n",
            "12.0\n",
            "(array([3]),)\n",
            "(array([5, 6]),)\n"
          ],
          "name": "stdout"
        }
      ]
    },
    {
      "cell_type": "code",
      "metadata": {
        "colab": {
          "base_uri": "https://localhost:8080/"
        },
        "id": "dAxyzzVMAzAb",
        "outputId": "d76c0a20-7921-43f3-f0a6-aa8a080f32a4"
      },
      "source": [
        "#1X^2 - 3x + 2 = 0\r\n",
        "Ecu_1 = np.array([1,-3,2]) \r\n",
        "Sol_1 = np.roots(Ecu_1)  # Esta funcion nos indica en que puntos una ecuacion toma el valor de 0, puede ser de grados mayores\r\n",
        "print(Sol_1)\r\n",
        "#4x^4 - 2x^2 + 3x - 2 = 0\r\n",
        "Ecu_2 = np.array([4,0,-2,3,-2])\r\n",
        "Sol_2 = np.roots(Ecu_2)\r\n",
        "print(Sol_2)"
      ],
      "execution_count": 4,
      "outputs": [
        {
          "output_type": "stream",
          "text": [
            "[2. 1.]\n",
            "[-1.20921113+0.j          0.26185021+0.73117971j  0.26185021-0.73117971j\n",
            "  0.6855107 +0.j        ]\n"
          ],
          "name": "stdout"
        }
      ]
    },
    {
      "cell_type": "code",
      "metadata": {
        "colab": {
          "base_uri": "https://localhost:8080/"
        },
        "id": "W6s1w95GBWVD",
        "outputId": "5c84bf1d-3e61-41f6-e001-d5b59a3da250"
      },
      "source": [
        "#5x - 3y - z = 1\r\n",
        "#x + 4y -6z = -1\r\n",
        "#2x + 3y + 4x = 9\r\n",
        "X = np.array([[5,-3,-1],[1,4,-6],[2,3,4]])\r\n",
        "Val = np.array([1,-1,9])\r\n",
        "print(X)\r\n",
        "print(\"------------\")\r\n",
        "print(Val)\r\n",
        "print(\"------------\")\r\n",
        "Sol_S = np.linalg.solve(X,Val) #Nos permite resolver un sistema de ecuaciones, puede ser mayor a 3\r\n",
        "print(Sol_S)"
      ],
      "execution_count": 5,
      "outputs": [
        {
          "output_type": "stream",
          "text": [
            "[[ 5 -3 -1]\n",
            " [ 1  4 -6]\n",
            " [ 2  3  4]]\n",
            "------------\n",
            "[ 1 -1  9]\n",
            "------------\n",
            "[1. 1. 1.]\n"
          ],
          "name": "stdout"
        }
      ]
    },
    {
      "cell_type": "code",
      "metadata": {
        "colab": {
          "base_uri": "https://localhost:8080/"
        },
        "id": "Lo0ZbSi0B1M9",
        "outputId": "1be2ed6a-ca60-4cf2-94fd-e6d7e4bf420f"
      },
      "source": [
        "Y = np.array([[3,-2,-6],[7,8,-6],[2,1,4]])\r\n",
        "#print(Y)\r\n",
        "XY = np.matmul(X,Y) # Esta funcion multiplica dos matrices\r\n",
        "print(XY)"
      ],
      "execution_count": 6,
      "outputs": [
        {
          "output_type": "stream",
          "text": [
            "[[ -8 -35 -16]\n",
            " [ 19  24 -54]\n",
            " [ 35  24 -14]]\n"
          ],
          "name": "stdout"
        }
      ]
    }
  ]
}