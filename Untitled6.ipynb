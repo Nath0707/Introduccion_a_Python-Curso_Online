{
  "nbformat": 4,
  "nbformat_minor": 0,
  "metadata": {
    "colab": {
      "name": "Untitled6.ipynb",
      "provenance": [],
      "authorship_tag": "ABX9TyOcbFKVtbQJkqshIo5wXFhE",
      "include_colab_link": true
    },
    "kernelspec": {
      "name": "python3",
      "display_name": "Python 3"
    }
  },
  "cells": [
    {
      "cell_type": "markdown",
      "metadata": {
        "id": "view-in-github",
        "colab_type": "text"
      },
      "source": [
        "<a href=\"https://colab.research.google.com/github/Nath0707/Introduccion_a_Python-Curso_Online/blob/main/Untitled6.ipynb\" target=\"_parent\"><img src=\"https://colab.research.google.com/assets/colab-badge.svg\" alt=\"Open In Colab\"/></a>"
      ]
    },
    {
      "cell_type": "code",
      "metadata": {
        "id": "0cLIWkP_DyW-"
      },
      "source": [
        "\r\n",
        "# Esta funcion imprime dos mensajes y realiza una operacion pero no regresa ni recibe algun valor\r\n",
        "# Es posible llamaar a la funcion con su nombre seguido de parentesis la cantidad de veces que deseemos\r\n",
        "def fun_1():\r\n",
        "  print(\"Hola mundo\")\r\n",
        "  print(\"Bienvenidos\")\r\n",
        "  a = 2\r\n",
        "  b = 3\r\n",
        "  c = a * b\r\n",
        "  print(\"a * b = \", c)"
      ],
      "execution_count": 1,
      "outputs": []
    },
    {
      "cell_type": "code",
      "metadata": {
        "colab": {
          "base_uri": "https://localhost:8080/"
        },
        "id": "9YpIzpBkD-ue",
        "outputId": "909a29c2-0ff6-4eb6-f443-dbb012c7e48e"
      },
      "source": [
        "fun_1()\r\n",
        "#fun_1()\r\n",
        "#fun_1()"
      ],
      "execution_count": 2,
      "outputs": [
        {
          "output_type": "stream",
          "text": [
            "Hola mundo\n",
            "Bienvenidos\n",
            "a * b =  6\n"
          ],
          "name": "stdout"
        }
      ]
    },
    {
      "cell_type": "code",
      "metadata": {
        "id": "l3VYNoUZEDZ7"
      },
      "source": [
        "# Recibe dos variables (pero puede recibir mas) y con ellas realiza una operacion que se imprime pero aun no nos regresa algun valor\r\n",
        "def fun_2(a,b):\r\n",
        "  print(\"Hola mundo\")\r\n",
        "  #print(\"Bienvenidos\")\r\n",
        "  #a = 2\r\n",
        "  #b = 3\r\n",
        "  c = a * b\r\n",
        "  print(\"a * b = \", c)"
      ],
      "execution_count": 5,
      "outputs": []
    },
    {
      "cell_type": "code",
      "metadata": {
        "colab": {
          "base_uri": "https://localhost:8080/"
        },
        "id": "LnFcqNk5EJMu",
        "outputId": "2c254e53-3d87-4542-cb6a-09d65224989d"
      },
      "source": [
        "f = 6\r\n",
        "e = 2\r\n",
        "\r\n",
        "#fun_2(f,e)\r\n",
        "#fun_2(f,1)\r\n",
        "#fun_2(f,3)\r\n",
        "x = fun_2(f,e)\r\n",
        "print(x)\r\n",
        "print(type(x))"
      ],
      "execution_count": 6,
      "outputs": [
        {
          "output_type": "stream",
          "text": [
            "Hola mundo\n",
            "a * b =  12\n",
            "None\n",
            "<class 'NoneType'>\n"
          ],
          "name": "stdout"
        }
      ]
    },
    {
      "cell_type": "code",
      "metadata": {
        "id": "Z57MApzvEtFV"
      },
      "source": [
        "# Esta funcion nos regresa la multiplicacion de a * b\r\n",
        "def fun_3(a,b):\r\n",
        "  print(\"Hola mundo\")\r\n",
        "  c = a * b\r\n",
        "  #print(\"a * b = \", a * b)\r\n",
        "  print(\"a * b = \", a * b)\r\n",
        "  return c"
      ],
      "execution_count": 8,
      "outputs": []
    },
    {
      "cell_type": "code",
      "metadata": {
        "id": "R7alMECrFP3C",
        "outputId": "03a74bec-c3bf-40a4-f7fb-a5bbd2c26b14",
        "colab": {
          "base_uri": "https://localhost:8080/"
        }
      },
      "source": [
        "mult = fun_3(f,e)\r\n",
        "print(type(mult))"
      ],
      "execution_count": 9,
      "outputs": [
        {
          "output_type": "stream",
          "text": [
            "Hola mundo\n",
            "a * b =  12\n",
            "<class 'int'>\n"
          ],
          "name": "stdout"
        }
      ]
    },
    {
      "cell_type": "code",
      "metadata": {
        "id": "M4Iou51IFt2g"
      },
      "source": [
        "#Esta funcion nos regresa la multiplicacion de a * b de forma int y de tipo string, ademas regresa una lista\r\n",
        "# Por lo que es posible que una funcion regrese diferentes tipos de variables \r\n",
        "# Tambien aqui notamos que una funcion puede tener como entradas variables de diferente tipo en este caso dos de entero y uno de string \r\n",
        "def fun_4(a,b,d):\r\n",
        "  print(\"Hola mundo\")\r\n",
        "  c = a * b\r\n",
        "  print(\"a * b = \", a * b)\r\n",
        "  f = \"Hola \" + d\r\n",
        "  print(f)\r\n",
        "  c_s = str(c)\r\n",
        "  lista = [1.4,2.7,3.5]\r\n",
        "  return c, c_s, lista"
      ],
      "execution_count": 10,
      "outputs": []
    },
    {
      "cell_type": "code",
      "metadata": {
        "id": "R4pyyMB5GK8t",
        "outputId": "f83ce375-8b7b-44e5-ba87-7885f8bcd641",
        "colab": {
          "base_uri": "https://localhost:8080/"
        }
      },
      "source": [
        "Valores = fun_4(f,e,\"Uriel\")\r\n",
        "#print(type(Valores))\r\n",
        "#print(type(Valores[0]))\r\n",
        "#print(type(Valores[1]))\r\n",
        "#print(type(Valores[2]))\r\n",
        "Entero, String, Lista = fun_4(f,e,\"Uriel\")\r\n",
        "if Entero == Valores[0]:\r\n",
        "  print(\"Son iguales\")"
      ],
      "execution_count": 11,
      "outputs": [
        {
          "output_type": "stream",
          "text": [
            "Hola mundo\n",
            "a * b =  12\n",
            "Hola Uriel\n",
            "Hola mundo\n",
            "a * b =  12\n",
            "Hola Uriel\n",
            "Son iguales\n"
          ],
          "name": "stdout"
        }
      ]
    },
    {
      "cell_type": "code",
      "metadata": {
        "id": "ZVLM2kzrGnuO"
      },
      "source": [
        "# Podemos asignar valores por defecto a los parametros de la funcion\r\n",
        "def fun_5(a = 2,b = 3,d = \"Uriel\"):\r\n",
        "  print(\"Hola mundo\")\r\n",
        "  c = a * b\r\n",
        "  print(\"a * b = \", a * b)\r\n",
        "  f = \"Hola \" + d\r\n",
        "  print(f)\r\n",
        "  c_s = str(c)\r\n",
        "  lista = [1.4,2.7,3.5]\r\n",
        "  return c, c_s, lista"
      ],
      "execution_count": 12,
      "outputs": []
    },
    {
      "cell_type": "code",
      "metadata": {
        "id": "mPlWfck-G7cp",
        "outputId": "df4172b4-4698-4156-faf2-27c13d680db6",
        "colab": {
          "base_uri": "https://localhost:8080/"
        }
      },
      "source": [
        "Prueba = fun_5(e,f,\"Juanito\")"
      ],
      "execution_count": 13,
      "outputs": [
        {
          "output_type": "stream",
          "text": [
            "Hola mundo\n",
            "a * b =  12\n",
            "Hola Juanito\n"
          ],
          "name": "stdout"
        }
      ]
    },
    {
      "cell_type": "code",
      "metadata": {
        "id": "KIb403nNHJ6u"
      },
      "source": [
        "# Ahora la funcion tambien imprime los valores de a y b\r\n",
        "def fun_6(a = 2,b = 3,d = \"Uriel\"):\r\n",
        "  print(\"Hola mundo\")\r\n",
        "  c = a * b\r\n",
        "  print(str(a)+ \" * \" + str(b) + \" =\", a * b)\r\n",
        "  f = \"Hola \" + d\r\n",
        "  print(f)\r\n",
        "  c_s = str(c)\r\n",
        "  lista = [1.4,2.7,3.5]\r\n",
        "  return c, c_s, lista"
      ],
      "execution_count": 14,
      "outputs": []
    },
    {
      "cell_type": "code",
      "metadata": {
        "id": "doeUUTlqHTA8",
        "outputId": "8b1f15aa-d0c0-4f71-f281-b811f082b60d",
        "colab": {
          "base_uri": "https://localhost:8080/"
        }
      },
      "source": [
        "Prueba_2 = fun_6(10,2,\"Juanito\")"
      ],
      "execution_count": 15,
      "outputs": [
        {
          "output_type": "stream",
          "text": [
            "Hola mundo\n",
            "10 * 2 = 20\n",
            "Hola Juanito\n"
          ],
          "name": "stdout"
        }
      ]
    }
  ]
}