{
  "nbformat": 4,
  "nbformat_minor": 0,
  "metadata": {
    "colab": {
      "name": "Untitled3.ipynb",
      "provenance": [],
      "authorship_tag": "ABX9TyNc7pZtDsmNGFQEwzZAongL",
      "include_colab_link": true
    },
    "kernelspec": {
      "name": "python3",
      "display_name": "Python 3"
    }
  },
  "cells": [
    {
      "cell_type": "markdown",
      "metadata": {
        "id": "view-in-github",
        "colab_type": "text"
      },
      "source": [
        "<a href=\"https://colab.research.google.com/github/Nath0707/Introduccion_a_Python-Curso_Online/blob/main/Untitled3.ipynb\" target=\"_parent\"><img src=\"https://colab.research.google.com/assets/colab-badge.svg\" alt=\"Open In Colab\"/></a>"
      ]
    },
    {
      "cell_type": "code",
      "metadata": {
        "colab": {
          "base_uri": "https://localhost:8080/"
        },
        "id": "x0Yr8dpbulZ6",
        "outputId": "65ab38af-f27e-49eb-ff00-56e3d2832447"
      },
      "source": [
        "#Operadores de asignación\r\n",
        "A=5\r\n",
        "\r\n",
        "#sUMA DE ASUGNACIÓN\r\n",
        "A += 3 #ES IGUAL A A=A+3\r\n",
        "\r\n",
        "A\r\n",
        "#RESTA DE ASIGNACION\r\n",
        "A -= 3 #ES IGUAL A A=A-3\r\n",
        "A\r\n",
        "\r\n",
        "#Multiplicación de asignacion\r\n",
        "A *= 3\r\n",
        "A\r\n",
        "\r\n",
        "#dIVISIÓN DE ASIGNACION\r\n",
        "A /= 3\r\n",
        "A\r\n",
        "\r\n",
        "#Potencia de ASIGNACION\r\n",
        "A **=2\r\n",
        "A"
      ],
      "execution_count": null,
      "outputs": [
        {
          "output_type": "execute_result",
          "data": {
            "text/plain": [
              "25.0"
            ]
          },
          "metadata": {
            "tags": []
          },
          "execution_count": 4
        }
      ]
    },
    {
      "cell_type": "code",
      "metadata": {
        "colab": {
          "base_uri": "https://localhost:8080/"
        },
        "id": "SZo4CG3Gx_ID",
        "outputId": "0dc77190-81ff-4bdd-b1ed-44434369aa3d"
      },
      "source": [
        "#OPERADOR MODULO (RESIDUO)\r\n",
        "B=10%3\r\n",
        "B\r\n",
        "\r\n",
        "#mODULO EN ASIGNACION\r\n",
        "A=20\r\n",
        "A %= 6\r\n",
        "A"
      ],
      "execution_count": null,
      "outputs": [
        {
          "output_type": "execute_result",
          "data": {
            "text/plain": [
              "2"
            ]
          },
          "metadata": {
            "tags": []
          },
          "execution_count": 6
        }
      ]
    },
    {
      "cell_type": "code",
      "metadata": {
        "colab": {
          "base_uri": "https://localhost:8080/"
        },
        "id": "x8a_dgsbzFIK",
        "outputId": "505820e8-5c09-4cb5-aa4b-94d4b51f9806"
      },
      "source": [
        "# Operadores de comparacion\r\n",
        "\r\n",
        "'''\r\n",
        "and, or, not, >, <, ==, >=, <=, !=\r\n",
        "\r\n",
        "1. ()\r\n",
        "2. **\r\n",
        "3. *, /, %, not\r\n",
        "4. +, -, and\r\n",
        "5. >, <, ==, >=, <=, !=, or\r\n",
        "\r\n",
        "\r\n",
        "and: si ambas expresiones tienen el valor True (cierto) da como resultado True\r\n",
        "or: con que mínimo una expresion tenga el valor True (cierto) da como resultado True\r\n",
        "not: cambia el valor de True (cierto) a False (falso) y viceversa \r\n",
        "'''\r\n",
        "\r\n",
        "A = 1\r\n",
        "B = 2\r\n",
        "C = 3\r\n",
        "\r\n",
        "D = not((A > C) or (C < B))\r\n",
        "print(D)\r\n",
        "\r\n",
        "# operador \"diferente\" !=\r\n",
        "\r\n",
        "E = A != 2 # Como A es diferente de dos el operador \"Diferente\" da como resultado el valor de True\r\n",
        "print(E)\r\n",
        "\r\n",
        "# Operador \"igualdad\" ==\r\n",
        "\r\n",
        "F = A == 1 # Como A es igual que uno el operador \"igualdad\" da como resultado el valor de True\r\n",
        "print(F)"
      ],
      "execution_count": null,
      "outputs": [
        {
          "output_type": "stream",
          "text": [
            "True\n",
            "True\n",
            "True\n"
          ],
          "name": "stdout"
        }
      ]
    }
  ]
}