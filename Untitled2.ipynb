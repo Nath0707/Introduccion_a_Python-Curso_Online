{
  "nbformat": 4,
  "nbformat_minor": 0,
  "metadata": {
    "colab": {
      "name": "Untitled2.ipynb",
      "provenance": [],
      "authorship_tag": "ABX9TyMBBnxKp4TrFuwNe3YAB0PN",
      "include_colab_link": true
    },
    "kernelspec": {
      "name": "python3",
      "display_name": "Python 3"
    }
  },
  "cells": [
    {
      "cell_type": "markdown",
      "metadata": {
        "id": "view-in-github",
        "colab_type": "text"
      },
      "source": [
        "<a href=\"https://colab.research.google.com/github/Nath0707/Introduccion_a_Python-Curso_Online/blob/main/Untitled2.ipynb\" target=\"_parent\"><img src=\"https://colab.research.google.com/assets/colab-badge.svg\" alt=\"Open In Colab\"/></a>"
      ]
    },
    {
      "cell_type": "code",
      "metadata": {
        "id": "thIyK1GX1tjN"
      },
      "source": [
        ""
      ],
      "execution_count": null,
      "outputs": []
    },
    {
      "cell_type": "markdown",
      "metadata": {
        "id": "uoCdGMKV1uQN"
      },
      "source": [
        "#Indices en listas\r\n"
      ]
    },
    {
      "cell_type": "code",
      "metadata": {
        "colab": {
          "base_uri": "https://localhost:8080/"
        },
        "id": "kAgvMfCq12z5",
        "outputId": "eaa4fc19-86c5-4099-aaee-91b42c18963b"
      },
      "source": [
        "A=[89,2,3,4,5]\r\n",
        "A[0]\r\n",
        "A[0]=1\r\n",
        "A"
      ],
      "execution_count": 3,
      "outputs": [
        {
          "output_type": "execute_result",
          "data": {
            "text/plain": [
              "[1, 2, 3, 4, 5]"
            ]
          },
          "metadata": {
            "tags": []
          },
          "execution_count": 3
        }
      ]
    },
    {
      "cell_type": "markdown",
      "metadata": {
        "id": "hDJ8LfUC21ps"
      },
      "source": [
        "# Añadir elementos a listas\r\n"
      ]
    },
    {
      "cell_type": "code",
      "metadata": {
        "colab": {
          "base_uri": "https://localhost:8080/"
        },
        "id": "zck0hi_029Cf",
        "outputId": "fb2e68ae-15d5-4536-e347-2daa2ae86742"
      },
      "source": [
        "B=[1,2,3]\r\n",
        "B"
      ],
      "execution_count": 7,
      "outputs": [
        {
          "output_type": "execute_result",
          "data": {
            "text/plain": [
              "[1, 2, 3]"
            ]
          },
          "metadata": {
            "tags": []
          },
          "execution_count": 7
        }
      ]
    },
    {
      "cell_type": "code",
      "metadata": {
        "colab": {
          "base_uri": "https://localhost:8080/"
        },
        "id": "x24Coyz99tQ5",
        "outputId": "796b73c6-056d-4080-e3c9-008b99346de6"
      },
      "source": [
        "B.append(4)\r\n",
        "B\r\n"
      ],
      "execution_count": 9,
      "outputs": [
        {
          "output_type": "execute_result",
          "data": {
            "text/plain": [
              "[1, 2, 3, 4]"
            ]
          },
          "metadata": {
            "tags": []
          },
          "execution_count": 9
        }
      ]
    },
    {
      "cell_type": "code",
      "metadata": {
        "colab": {
          "base_uri": "https://localhost:8080/"
        },
        "id": "f4garprV-Zsh",
        "outputId": "29d64956-c9a8-43dd-f094-4506d0eace83"
      },
      "source": [
        "c=[]\r\n",
        "c\r\n",
        "c.append([1,2,3])\r\n",
        "c"
      ],
      "execution_count": 16,
      "outputs": [
        {
          "output_type": "execute_result",
          "data": {
            "text/plain": [
              "[[1, 2, 3]]"
            ]
          },
          "metadata": {
            "tags": []
          },
          "execution_count": 16
        }
      ]
    },
    {
      "cell_type": "code",
      "metadata": {
        "colab": {
          "base_uri": "https://localhost:8080/"
        },
        "id": "35IGlSHr-nXa",
        "outputId": "90f55bbe-84bd-4804-c17b-60c8c8edd8df"
      },
      "source": [
        "c.append([4,5,6])\r\n",
        "c"
      ],
      "execution_count": 17,
      "outputs": [
        {
          "output_type": "execute_result",
          "data": {
            "text/plain": [
              "[[1, 2, 3], [4, 5, 6]]"
            ]
          },
          "metadata": {
            "tags": []
          },
          "execution_count": 17
        }
      ]
    },
    {
      "cell_type": "code",
      "metadata": {
        "colab": {
          "base_uri": "https://localhost:8080/"
        },
        "id": "tirUGIVmNqhn",
        "outputId": "b8cfab19-b8dd-4282-e1ea-0605b1baf010"
      },
      "source": [
        "import numpy as np\r\n",
        "c=np.array(c)\r\n",
        "c"
      ],
      "execution_count": 18,
      "outputs": [
        {
          "output_type": "execute_result",
          "data": {
            "text/plain": [
              "array([[1, 2, 3],\n",
              "       [4, 5, 6]])"
            ]
          },
          "metadata": {
            "tags": []
          },
          "execution_count": 18
        }
      ]
    },
    {
      "cell_type": "markdown",
      "metadata": {
        "id": "0XpMIn14OMH7"
      },
      "source": [
        "# operaciones a listas\r\n"
      ]
    },
    {
      "cell_type": "code",
      "metadata": {
        "colab": {
          "base_uri": "https://localhost:8080/"
        },
        "id": "-BYcvoriOJu6",
        "outputId": "e0573a7e-9b7b-4cf3-c114-f3ed066c7456"
      },
      "source": [
        "print(c[1][1])"
      ],
      "execution_count": 19,
      "outputs": [
        {
          "output_type": "stream",
          "text": [
            "5\n"
          ],
          "name": "stdout"
        }
      ]
    },
    {
      "cell_type": "code",
      "metadata": {
        "colab": {
          "base_uri": "https://localhost:8080/"
        },
        "id": "2cPWTJUqSoGZ",
        "outputId": "f8628429-1eb2-4e0f-bbea-8289eed3b387"
      },
      "source": [
        "d=[1,2,3,4,5,6,7,8,9,10]\r\n",
        "Suma=sum(d)\r\n",
        "Suma"
      ],
      "execution_count": 21,
      "outputs": [
        {
          "output_type": "execute_result",
          "data": {
            "text/plain": [
              "55"
            ]
          },
          "metadata": {
            "tags": []
          },
          "execution_count": 21
        }
      ]
    },
    {
      "cell_type": "code",
      "metadata": {
        "colab": {
          "base_uri": "https://localhost:8080/"
        },
        "id": "ooMA4-PkVKi7",
        "outputId": "005f9b0d-2bdc-4e04-febe-c86eea47cc29"
      },
      "source": [
        "longitud=len(d)\r\n",
        "longitud"
      ],
      "execution_count": 22,
      "outputs": [
        {
          "output_type": "execute_result",
          "data": {
            "text/plain": [
              "10"
            ]
          },
          "metadata": {
            "tags": []
          },
          "execution_count": 22
        }
      ]
    },
    {
      "cell_type": "code",
      "metadata": {
        "colab": {
          "base_uri": "https://localhost:8080/"
        },
        "id": "LKV64axmVc-u",
        "outputId": "2bfdbc25-5451-4573-d5df-d12de397665e"
      },
      "source": [
        "import statistics as st\r\n",
        "promedio=st.mean(d)\r\n",
        "promedio"
      ],
      "execution_count": 23,
      "outputs": [
        {
          "output_type": "execute_result",
          "data": {
            "text/plain": [
              "5.5"
            ]
          },
          "metadata": {
            "tags": []
          },
          "execution_count": 23
        }
      ]
    },
    {
      "cell_type": "markdown",
      "metadata": {
        "id": "LpXzjr0bWamA"
      },
      "source": [
        "# Listas con Strings"
      ]
    },
    {
      "cell_type": "code",
      "metadata": {
        "colab": {
          "base_uri": "https://localhost:8080/"
        },
        "id": "PmYS_99AWhry",
        "outputId": "2a330fa8-d238-4d27-8f3e-3a599c7abd36"
      },
      "source": [
        "s=['abc', 'def', 'ghi','jkl']\r\n",
        "print(s[2][1])"
      ],
      "execution_count": 24,
      "outputs": [
        {
          "output_type": "stream",
          "text": [
            "h\n"
          ],
          "name": "stdout"
        }
      ]
    },
    {
      "cell_type": "code",
      "metadata": {
        "colab": {
          "base_uri": "https://localhost:8080/"
        },
        "id": "JI74qpvoX9bN",
        "outputId": "99a042c8-62ae-44f3-fce2-8137eb7d783a"
      },
      "source": [
        "lo=len(s)\r\n",
        "lo"
      ],
      "execution_count": 25,
      "outputs": [
        {
          "output_type": "execute_result",
          "data": {
            "text/plain": [
              "4"
            ]
          },
          "metadata": {
            "tags": []
          },
          "execution_count": 25
        }
      ]
    },
    {
      "cell_type": "code",
      "metadata": {
        "colab": {
          "base_uri": "https://localhost:8080/"
        },
        "id": "4_WZCmkuYOZ9",
        "outputId": "dda594b7-c275-406a-f08b-987bf6a38c90"
      },
      "source": [
        "print(s[2][0:2])"
      ],
      "execution_count": 28,
      "outputs": [
        {
          "output_type": "stream",
          "text": [
            "gh\n"
          ],
          "name": "stdout"
        }
      ]
    },
    {
      "cell_type": "markdown",
      "metadata": {
        "id": "9xilfDhGY0To"
      },
      "source": [
        "#Diccionarios"
      ]
    },
    {
      "cell_type": "code",
      "metadata": {
        "id": "yropFnpNY20O"
      },
      "source": [
        "datos_alumno ={\r\n",
        "    'nombre':'natalia',\r\n",
        "    'apellido':'cornejo',\r\n",
        "    'matricula':'18030720',\r\n",
        "    'edad':'20',\r\n",
        "}\r\n"
      ],
      "execution_count": 32,
      "outputs": []
    },
    {
      "cell_type": "code",
      "metadata": {
        "colab": {
          "base_uri": "https://localhost:8080/"
        },
        "id": "NqfUTVjQZ4fo",
        "outputId": "f35d7326-796c-4a48-b4e8-f987296ae12c"
      },
      "source": [
        "print(datos_alumno['nombre'])"
      ],
      "execution_count": 34,
      "outputs": [
        {
          "output_type": "stream",
          "text": [
            "natalia\n"
          ],
          "name": "stdout"
        }
      ]
    },
    {
      "cell_type": "code",
      "metadata": {
        "id": "AxvFyzelatkK"
      },
      "source": [
        "datos_alumno.update({'materias':['quimica','mate','español']})"
      ],
      "execution_count": 35,
      "outputs": []
    },
    {
      "cell_type": "code",
      "metadata": {
        "colab": {
          "base_uri": "https://localhost:8080/"
        },
        "id": "MuQktjcfbUob",
        "outputId": "2321e657-2f2c-45af-b74c-1ac8e28218e4"
      },
      "source": [
        "datos_alumno"
      ],
      "execution_count": 36,
      "outputs": [
        {
          "output_type": "execute_result",
          "data": {
            "text/plain": [
              "{'apellido': 'cornejo',\n",
              " 'edad': '20',\n",
              " 'materias': ['quimica', 'mate', 'español'],\n",
              " 'matricula': '18030720',\n",
              " 'nombre': 'natalia'}"
            ]
          },
          "metadata": {
            "tags": []
          },
          "execution_count": 36
        }
      ]
    },
    {
      "cell_type": "markdown",
      "metadata": {
        "id": "FTZuJVylcci2"
      },
      "source": [
        "# Diccionarios anidados"
      ]
    },
    {
      "cell_type": "code",
      "metadata": {
        "id": "nQN09I3TcfjP"
      },
      "source": [
        "Pacientes = [\r\n",
        "    {\r\n",
        "     'Nombre':'Juan',\r\n",
        "     'Seguro':'Si',\r\n",
        "     'ID_seguro':'987654321',\r\n",
        "     'Covid':'Si',\r\n",
        "     'G_sanguineo':'AB+'\r\n",
        "    },\r\n",
        "\r\n",
        "    {\r\n",
        "     'Nombre':'Maria',\r\n",
        "     'Seguro':'Si',\r\n",
        "     'ID_seguro':'123456789',\r\n",
        "     'Covid':'No',\r\n",
        "     'G_sanguineo':'A+'\r\n",
        "    },\r\n",
        "\r\n",
        "    {\r\n",
        "     'Nombre':'Ernesto',\r\n",
        "     'Seguro':'No',\r\n",
        "     'ID_seguro':'N/A',\r\n",
        "     'Covid':'No',\r\n",
        "     'G_sanguineo':'B+',\r\n",
        "    }\r\n",
        "]"
      ],
      "execution_count": 39,
      "outputs": []
    },
    {
      "cell_type": "code",
      "metadata": {
        "colab": {
          "base_uri": "https://localhost:8080/"
        },
        "id": "lXR35ivXcv3d",
        "outputId": "2503c2a7-6c41-4c0d-c653-65f6283df8dd"
      },
      "source": [
        "\r\n",
        "print(Pacientes[1]['Nombre'])\r\n",
        "print(Pacientes[1]['Seguro'])\r\n",
        "print(Pacientes[1]['ID_seguro'])"
      ],
      "execution_count": 40,
      "outputs": [
        {
          "output_type": "stream",
          "text": [
            "Maria\n",
            "Si\n",
            "123456789\n"
          ],
          "name": "stdout"
        }
      ]
    },
    {
      "cell_type": "markdown",
      "metadata": {
        "id": "ryfth6X1ebyr"
      },
      "source": [
        "#Tarea"
      ]
    },
    {
      "cell_type": "code",
      "metadata": {
        "colab": {
          "base_uri": "https://localhost:8080/"
        },
        "id": "wyuLxq--ed68",
        "outputId": "81e462ea-6524-43c7-dbd2-b5f31fb628b2"
      },
      "source": [
        "zoo =[\r\n",
        "     \r\n",
        "    {\r\n",
        "    'animal':input('Raza: '),\r\n",
        "     'llegada':input('Fecha de llegada: '),\r\n",
        "     'edad':input('Edad: '),\r\n",
        "     'genero':input('Genero: ')\r\n",
        "    },\r\n",
        "    {\r\n",
        "    'animal':input('Raza: '),\r\n",
        "     'llegada':input('Fecha de llegada: '),\r\n",
        "     'edad':input('Edad: '),\r\n",
        "     'genero':input('Genero: ')\r\n",
        "    },\r\n",
        "     \r\n",
        "    {\r\n",
        "    'animal':input('Raza: '),\r\n",
        "     'llegada':input('Fecha de llegada: '),\r\n",
        "     'edad':input('Edad: '),\r\n",
        "     'genero':input('Genero: ')\r\n",
        "    }\r\n",
        "]\r\n"
      ],
      "execution_count": 49,
      "outputs": [
        {
          "output_type": "stream",
          "text": [
            "Raza: 2\n",
            "Fecha de llegada: 3\n",
            "Edad: 1\n",
            "Genero: 4\n",
            "Raza: 5\n",
            "Fecha de llegada: 6\n",
            "Edad: 7\n",
            "Genero: 8\n",
            "Raza: 9\n",
            "Fecha de llegada: 0\n",
            "Edad: p\n",
            "Genero: o\n"
          ],
          "name": "stdout"
        }
      ]
    },
    {
      "cell_type": "code",
      "metadata": {
        "colab": {
          "base_uri": "https://localhost:8080/"
        },
        "id": "tEubmlHGh0XA",
        "outputId": "5d6e5658-44d0-49c3-e5ac-fb19764c1918"
      },
      "source": [
        "print(zoo[1]['animal'])"
      ],
      "execution_count": 50,
      "outputs": [
        {
          "output_type": "stream",
          "text": [
            "5\n"
          ],
          "name": "stdout"
        }
      ]
    },
    {
      "cell_type": "code",
      "metadata": {
        "colab": {
          "base_uri": "https://localhost:8080/"
        },
        "id": "lrEtPJwmiAHF",
        "outputId": "150059f5-7649-450c-dc6a-2de5878bf5f2"
      },
      "source": [
        "zoo[0].update({'algo':'nata'})\r\n",
        "print(zoo[0])"
      ],
      "execution_count": 62,
      "outputs": [
        {
          "output_type": "stream",
          "text": [
            "{'animal': '2', 'llegada': '3', 'edad': '1', 'genero': '4', 'algo': 'nata'}\n"
          ],
          "name": "stdout"
        }
      ]
    }
  ]
}