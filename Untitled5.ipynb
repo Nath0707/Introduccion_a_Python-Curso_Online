{
  "nbformat": 4,
  "nbformat_minor": 0,
  "metadata": {
    "colab": {
      "name": "Untitled5.ipynb",
      "provenance": [],
      "authorship_tag": "ABX9TyN6kM8v0v3eyfRY1GH7A6Kl",
      "include_colab_link": true
    },
    "kernelspec": {
      "name": "python3",
      "display_name": "Python 3"
    }
  },
  "cells": [
    {
      "cell_type": "markdown",
      "metadata": {
        "id": "view-in-github",
        "colab_type": "text"
      },
      "source": [
        "<a href=\"https://colab.research.google.com/github/Nath0707/Introduccion_a_Python-Curso_Online/blob/main/Untitled5.ipynb\" target=\"_parent\"><img src=\"https://colab.research.google.com/assets/colab-badge.svg\" alt=\"Open In Colab\"/></a>"
      ]
    },
    {
      "cell_type": "code",
      "metadata": {
        "colab": {
          "base_uri": "https://localhost:8080/"
        },
        "id": "RnZlJB9t7f-8",
        "outputId": "7982f3c7-3b80-4eea-d8cf-ac2a79f30bf5"
      },
      "source": [
        "# Un ciclo es un código que se repite varias veces hasta que se deja \r\n",
        "# de cumplir una condicion\r\n",
        "\r\n",
        "# Iteracion: es el numero de veces que se ha repetido el ciclo\r\n",
        "\r\n",
        "# Ciclo while\r\n",
        "\r\n",
        "# Solicitar un numero par al usuario\r\n",
        "\r\n",
        "Numero = int( input(\"Ingresa un numero par \") )\r\n",
        "\r\n",
        "while Numero % 2 != 0:\r\n",
        "  Numero = int( input(\"DIJE QUE INGRESARAS UN NUMERO PAR!!! \") )\r\n",
        "\r\n",
        "print(\"El numero par es:\", Numero)"
      ],
      "execution_count": 1,
      "outputs": [
        {
          "output_type": "stream",
          "text": [
            "Ingresa un numero par 1\n",
            "DIJE QUE INGRESARAS UN NUMERO PAR!!! 2\n",
            "El numero par es: 2\n"
          ],
          "name": "stdout"
        }
      ]
    },
    {
      "cell_type": "code",
      "metadata": {
        "colab": {
          "base_uri": "https://localhost:8080/"
        },
        "id": "V7AZIQD77tO3",
        "outputId": "e3955e3e-802a-48d0-af0c-b39d221912e6"
      },
      "source": [
        "# Imprimiendo numeros del 1 al 5\r\n",
        "\r\n",
        "i = 1\r\n",
        "while i <= 5:\r\n",
        "  print(i)\r\n",
        "  i += 1"
      ],
      "execution_count": 2,
      "outputs": [
        {
          "output_type": "stream",
          "text": [
            "1\n",
            "2\n",
            "3\n",
            "4\n",
            "5\n"
          ],
          "name": "stdout"
        }
      ]
    },
    {
      "cell_type": "code",
      "metadata": {
        "colab": {
          "base_uri": "https://localhost:8080/"
        },
        "id": "m6vYQK0P76TU",
        "outputId": "c3a918c4-1790-4b46-8099-66ffbf598dc9"
      },
      "source": [
        "# Ciclo for \r\n",
        "\r\n",
        "# ciclo donde el numero de iteraciones normalmente es conocido\r\n",
        "# la variable i toma un valor de la lista\r\n",
        "# en cada iteracion\r\n",
        "\r\n",
        "# Imprimir numeros del 1 al 5\r\n",
        "\r\n",
        "for i in [1,2,3,4,5]:\r\n",
        "  print(i)"
      ],
      "execution_count": 3,
      "outputs": [
        {
          "output_type": "stream",
          "text": [
            "1\n",
            "2\n",
            "3\n",
            "4\n",
            "5\n"
          ],
          "name": "stdout"
        }
      ]
    },
    {
      "cell_type": "code",
      "metadata": {
        "colab": {
          "base_uri": "https://localhost:8080/"
        },
        "id": "BlzdBJSA79tQ",
        "outputId": "349875bd-5030-426b-ab63-1687ec92e31e"
      },
      "source": [
        "# Funcion range crea un arreglo de numeros\r\n",
        "# range(Inicio, Termina, incremento)\r\n",
        "# range(num) el arreglo va desde cero hasta num - 1 de uno en uno\r\n",
        "\r\n",
        "# Creando una lista con numeros del 0 al 10\r\n",
        "y = range(11)\r\n",
        "print( list(y) )\r\n",
        "\r\n",
        "# Sumatoria de los elementos en x\r\n",
        "x = [1,2,3,5,5]\r\n",
        "Suma = 0\r\n",
        "\r\n",
        "for i in x:\r\n",
        "  Suma += i\r\n",
        "\r\n",
        "print(Suma)\r\n",
        "\r\n",
        "# Sumando de una forma diferente\r\n",
        "\r\n",
        "Suma2 = 0\r\n",
        "for i in range(4):\r\n",
        "  Suma2 +=  x[i]\r\n",
        "\r\n",
        "print(Suma2)"
      ],
      "execution_count": 5,
      "outputs": [
        {
          "output_type": "stream",
          "text": [
            "[0, 1, 2, 3, 4, 5, 6, 7, 8, 9, 10]\n",
            "16\n",
            "11\n"
          ],
          "name": "stdout"
        }
      ]
    },
    {
      "cell_type": "code",
      "metadata": {
        "colab": {
          "base_uri": "https://localhost:8080/"
        },
        "id": "B542467W8cdZ",
        "outputId": "e2fb765f-dff9-46e9-c9a6-0b6dece51fb6"
      },
      "source": [
        "x = [5,4,3,2,1]\r\n",
        "\r\n",
        "tamaño = len(x)\r\n",
        "\r\n",
        "print(\"El tamaño de la lista es: \", tamaño)\r\n",
        "\r\n",
        "for i in range(tamaño):\r\n",
        "  if x[i] == 4:\r\n",
        "    print(\"El numero 4 esta en la posicion\",i)\r\n",
        "    break\r\n",
        "\r\n",
        "\r\n",
        "\r\n",
        "print(\"El numero de iteraciones fue: \", i + 1)"
      ],
      "execution_count": 6,
      "outputs": [
        {
          "output_type": "stream",
          "text": [
            "El tamaño de la lista es:  5\n",
            "El numero 4 esta en la posicion 1\n",
            "El numero de iteraciones fue:  2\n"
          ],
          "name": "stdout"
        }
      ]
    },
    {
      "cell_type": "code",
      "metadata": {
        "colab": {
          "base_uri": "https://localhost:8080/"
        },
        "id": "GopwAIQn8oPd",
        "outputId": "ce4b29a3-125e-449e-954a-8d1e97280d74"
      },
      "source": [
        "A = [ [1,2,3],[4,5,6],[7,8,9] ]\r\n",
        "print(A)\r\n",
        "\r\n",
        "print(3*A[0][0])\r\n",
        "\r\n"
      ],
      "execution_count": 20,
      "outputs": [
        {
          "output_type": "stream",
          "text": [
            "[[1, 2, 3], [4, 5, 6], [7, 8, 9]]\n",
            "3\n"
          ],
          "name": "stdout"
        }
      ]
    },
    {
      "cell_type": "code",
      "metadata": {
        "colab": {
          "base_uri": "https://localhost:8080/"
        },
        "id": "5UyxvTNYEyZK",
        "outputId": "8691da03-2ca9-4889-c6b0-d0152b7729d8"
      },
      "source": [
        "A = [[1,2,3], [4,5,6], [7, 8, 9]]\r\n",
        "B = A\r\n",
        "print(A)\r\n",
        "print(B)\r\n",
        "\r\n",
        "for i in range(3):\r\n",
        "  for o in range(3):\r\n",
        "    B[i][o] = 5*A[i][o]\r\n",
        "\r\n",
        "print(B)"
      ],
      "execution_count": 22,
      "outputs": [
        {
          "output_type": "stream",
          "text": [
            "[[1, 2, 3], [4, 5, 6], [7, 8, 9]]\n",
            "[[1, 2, 3], [4, 5, 6], [7, 8, 9]]\n",
            "[[5, 10, 15], [20, 25, 30], [35, 40, 45]]\n"
          ],
          "name": "stdout"
        }
      ]
    }
  ]
}