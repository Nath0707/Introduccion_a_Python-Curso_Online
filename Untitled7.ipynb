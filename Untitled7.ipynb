{
  "nbformat": 4,
  "nbformat_minor": 0,
  "metadata": {
    "colab": {
      "name": "Untitled7.ipynb",
      "provenance": [],
      "authorship_tag": "ABX9TyOIXZn6zJDiQ2kcG1+6003a",
      "include_colab_link": true
    },
    "kernelspec": {
      "name": "python3",
      "display_name": "Python 3"
    }
  },
  "cells": [
    {
      "cell_type": "markdown",
      "metadata": {
        "id": "view-in-github",
        "colab_type": "text"
      },
      "source": [
        "<a href=\"https://colab.research.google.com/github/Nath0707/Introduccion_a_Python-Curso_Online/blob/main/Untitled7.ipynb\" target=\"_parent\"><img src=\"https://colab.research.google.com/assets/colab-badge.svg\" alt=\"Open In Colab\"/></a>"
      ]
    },
    {
      "cell_type": "code",
      "metadata": {
        "id": "8I-JpP3e7oCM"
      },
      "source": [
        "# EJECUTE PRIMERO ESTA CELDA PARA QUE NO HAYA ERRORES EN LAS DEMÁS\r\n",
        "\r\n",
        "\r\n",
        "fichero = open(\"ejemplo.txt\", 'w')\r\n",
        "fichero.write(\"Contenido a escribir \")\r\n",
        "fichero.write(\"Hola\")\r\n",
        "fichero.close()\r\n",
        "\r\n",
        "\r\n",
        "# No debe imprimir nada en pantalla\r\n",
        "# Solo va a crear un archivo .txt"
      ],
      "execution_count": 1,
      "outputs": []
    },
    {
      "cell_type": "code",
      "metadata": {
        "colab": {
          "base_uri": "https://localhost:8080/"
        },
        "id": "Bpnflo2D7urQ",
        "outputId": "18a2b4ec-60d8-4284-ab04-27681e872445"
      },
      "source": [
        "fichero = open('ejemplo.txt')  #Por defecto está en modo 'r' para solo lectura del archivo\r\n",
        "\r\n",
        "print(fichero.read())\r\n",
        "print(fichero.readline())\r\n",
        "\r\n",
        "\r\n",
        "fichero.close()\r\n",
        "\r\n",
        "\r\n",
        "#seguido de una coma en el open después del nombre del archivo\r\n",
        "\r\n",
        "#‘r’: Por defecto, para leer el fichero.\r\n",
        "#‘w’: Para escribir en el fichero.\r\n",
        "#‘x’: Para la creación, fallando si ya existe.\r\n",
        "#‘a’: Para añadir contenido a un fichero existente.\r\n",
        "#‘b’: Para abrir en modo binario."
      ],
      "execution_count": 2,
      "outputs": [
        {
          "output_type": "stream",
          "text": [
            "Contenido a escribir Hola\n",
            "\n"
          ],
          "name": "stdout"
        }
      ]
    },
    {
      "cell_type": "code",
      "metadata": {
        "id": "0Y8l1DX58SeU"
      },
      "source": [
        "# Este código ingresa una lista dentro un archivo de texto\r\n",
        "\r\n",
        "# No importa si tiene el mismo nombre que el anterior archivo, puesto que lo destruye y crea uno nuevo\r\n",
        "\r\n",
        "lista = [\"Manzana\\n\", \"Pera\\n\", \"Plátano\\n\"]\r\n",
        "with open(\"ejemplo.txt\", 'w') as fichero:\r\n",
        "     fichero.writelines(lista)\r\n",
        "\r\n",
        "fichero.close()     # NUNCA olvides cerrar el archivo después de usarlo\r\n",
        "\r\n",
        "# El código no imprime nada en pantalla"
      ],
      "execution_count": 3,
      "outputs": []
    },
    {
      "cell_type": "code",
      "metadata": {
        "colab": {
          "base_uri": "https://localhost:8080/"
        },
        "id": "AzHH0onS8jDG",
        "outputId": "a1e98aad-aa18-4489-ae1f-c6d124b24c8c"
      },
      "source": [
        "# Este código imprime en pantalla el anterior arreglo escrito (renglón por renglón)\r\n",
        "\r\n",
        "#La función \"strip ()\" retorna una copia de una cadena\r\n",
        "# con ciertos caracteres...\r\n",
        "\r\n",
        "with open('ejemplo.txt','r') as stop_words: \r\n",
        "    lineas = [linea.strip() for linea in stop_words]\r\n",
        "\r\n",
        "for linea in lineas:\r\n",
        "    print(linea)"
      ],
      "execution_count": 4,
      "outputs": [
        {
          "output_type": "stream",
          "text": [
            "Manzana\n",
            "Pera\n",
            "Plátano\n"
          ],
          "name": "stdout"
        }
      ]
    }
  ]
}