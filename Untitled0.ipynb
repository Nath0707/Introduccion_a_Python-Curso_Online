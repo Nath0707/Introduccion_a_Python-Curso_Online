{
  "nbformat": 4,
  "nbformat_minor": 0,
  "metadata": {
    "colab": {
      "name": "Untitled0.ipynb",
      "provenance": [],
      "collapsed_sections": [],
      "authorship_tag": "ABX9TyOEMPzRKEJwGoJjh0/twXqc",
      "include_colab_link": true
    },
    "kernelspec": {
      "name": "python3",
      "display_name": "Python 3"
    }
  },
  "cells": [
    {
      "cell_type": "markdown",
      "metadata": {
        "id": "view-in-github",
        "colab_type": "text"
      },
      "source": [
        "<a href=\"https://colab.research.google.com/github/Nath0707/Introduccion_a_Python-Curso_Online/blob/main/Untitled0.ipynb\" target=\"_parent\"><img src=\"https://colab.research.google.com/assets/colab-badge.svg\" alt=\"Open In Colab\"/></a>"
      ]
    },
    {
      "cell_type": "code",
      "metadata": {
        "colab": {
          "base_uri": "https://localhost:8080/"
        },
        "id": "7r5uITU4dKfk",
        "outputId": "8157f323-f3c4-4355-a05e-ac67727c188e"
      },
      "source": [
        "#Creando una variable String\r\n",
        "mensaje = \"Hola\"\r\n",
        "\r\n",
        "#Imprimiendo la variable\r\n",
        "#print(mensaje)\r\n",
        "\r\n",
        "print(\"\\t¿Como estas? \\n Estoy bien\", mensaje)\r\n",
        "#\\n es un salto de linea\r\n",
        "#\\t es un tabulador"
      ],
      "execution_count": null,
      "outputs": [
        {
          "output_type": "stream",
          "text": [
            "Hola\n",
            "¿Como estas? \n",
            " Estoy bien\n"
          ],
          "name": "stdout"
        }
      ]
    },
    {
      "cell_type": "code",
      "metadata": {
        "colab": {
          "base_uri": "https://localhost:8080/"
        },
        "id": "c5KYbapAiDlG",
        "outputId": "938f977f-59ac-4c11-c2b7-1da5e9ca539a"
      },
      "source": [
        "#Concatenación de caracteres\r\n",
        "M_1 = \"Estoy\"\r\n",
        "M_2 = \" dando\"\r\n",
        "M_3 = \" una clase\"\r\n",
        "M_total = M_1 + M_2 + M_3\r\n",
        "#print(M_total)\r\n",
        "#print(M_1 + M_2 + M_3 + \" de Python\")\r\n",
        "\r\n",
        "numero_1 = \"1\"\r\n",
        "numero_2 = \"2\"\r\n",
        "numero_3 = numero_1 + numero_2\r\n",
        "print(numero_3)"
      ],
      "execution_count": null,
      "outputs": [
        {
          "output_type": "stream",
          "text": [
            "12\n"
          ],
          "name": "stdout"
        }
      ]
    },
    {
      "cell_type": "code",
      "metadata": {
        "colab": {
          "base_uri": "https://localhost:8080/"
        },
        "id": "Gz0tWU6Yno6F",
        "outputId": "f395364a-dd0c-4e27-ae54-002874f090d3"
      },
      "source": [
        "print(\"¿Cual es tu nombre?\")\r\n",
        "\r\n",
        "#solicitando el nombre del usuario\r\n",
        "\r\n",
        "nombre = input()\r\n",
        "\r\n",
        "#print(nombre)\r\n",
        "\r\n",
        "\r\n",
        "#Solicitando un String a un usuario por medio de un mensaje\r\n",
        "apellido = input(\"¿Cual es tu apellido? \")\r\n",
        "print(\"Mi nombre es: \", nombre, apellido)"
      ],
      "execution_count": null,
      "outputs": [
        {
          "output_type": "stream",
          "text": [
            "¿Cual es tu nombre?\n",
            "Natalia\n",
            "¿Cual es tu apellido? Cornejo\n",
            "Mi nombre es:  Natalia Cornejo\n"
          ],
          "name": "stdout"
        }
      ]
    },
    {
      "cell_type": "code",
      "metadata": {
        "colab": {
          "base_uri": "https://localhost:8080/"
        },
        "id": "f8vSd3VKqw1B",
        "outputId": "19981951-fc65-4b10-e96d-8dcd3e79d18e"
      },
      "source": [
        "nom1 = input(\"Primer nombre: \")\r\n",
        "nom2 = input(\"Segundo nombre: \")\r\n",
        "ape1 = input(\"Primer apellido: \")\r\n",
        "ape2 = input(\"Segundo apellido: \")\r\n",
        "print(\"Nombre completo:\", nom1, nom2, ape1, ape2)"
      ],
      "execution_count": null,
      "outputs": [
        {
          "output_type": "stream",
          "text": [
            "Primer nombre: Maria\n",
            "Segundo nombre: Natalia\n",
            "Primer apellido: Cornejo\n",
            "Segundo apellido: Peredo\n",
            "Nombre completo:  Maria Natalia Cornejo Peredo\n"
          ],
          "name": "stdout"
        }
      ]
    }
  ]
}