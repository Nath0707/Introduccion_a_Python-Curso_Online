{
  "nbformat": 4,
  "nbformat_minor": 0,
  "metadata": {
    "colab": {
      "name": "Untitled4.ipynb",
      "provenance": [],
      "authorship_tag": "ABX9TyMAI3z9bIRAHDfrYf1qbPds",
      "include_colab_link": true
    },
    "kernelspec": {
      "name": "python3",
      "display_name": "Python 3"
    }
  },
  "cells": [
    {
      "cell_type": "markdown",
      "metadata": {
        "id": "view-in-github",
        "colab_type": "text"
      },
      "source": [
        "<a href=\"https://colab.research.google.com/github/Nath0707/Introduccion_a_Python-Curso_Online/blob/main/Untitled4.ipynb\" target=\"_parent\"><img src=\"https://colab.research.google.com/assets/colab-badge.svg\" alt=\"Open In Colab\"/></a>"
      ]
    },
    {
      "cell_type": "markdown",
      "metadata": {
        "id": "27tPSnK_eB8H"
      },
      "source": [
        "# If else\r\n"
      ]
    },
    {
      "cell_type": "code",
      "metadata": {
        "colab": {
          "base_uri": "https://localhost:8080/"
        },
        "id": "tdgY-mxWeIh_",
        "outputId": "b15ff6fe-c3f7-4f89-8759-a4dd6aafa868"
      },
      "source": [
        "# CÓDIGO QUE SIEMPRE SE EJECUTA\r\n",
        "\r\n",
        "if True:                  # NUNCA olvides poner los dos puntos \":\" al final de una condición.\r\n",
        "  print(\"Hola\")       # También debe haber sangría en la acción, para estar seguro donde empezar a escribir\r\n",
        "                      # puedes mantener el cursor después de los dos puntos y dar enter.\r\n",
        "                      "
      ],
      "execution_count": 3,
      "outputs": [
        {
          "output_type": "stream",
          "text": [
            "Hola\n"
          ],
          "name": "stdout"
        }
      ]
    },
    {
      "cell_type": "code",
      "metadata": {
        "colab": {
          "base_uri": "https://localhost:8080/"
        },
        "id": "NE7aZGWzeNal",
        "outputId": "26703103-5f33-4167-e239-0d97a428b9d6"
      },
      "source": [
        "# Programa que siempre ejecutará el else\r\n",
        "\r\n",
        "if False:\r\n",
        "  print(\"Hola\")\r\n",
        "else:\r\n",
        "  print(\"Adiós\")"
      ],
      "execution_count": 4,
      "outputs": [
        {
          "output_type": "stream",
          "text": [
            "Adiós\n"
          ],
          "name": "stdout"
        }
      ]
    },
    {
      "cell_type": "code",
      "metadata": {
        "colab": {
          "base_uri": "https://localhost:8080/"
        },
        "id": "qwqoWwpdeUrH",
        "outputId": "4b0791da-1c32-4c84-bcce-f38d04f639ba"
      },
      "source": [
        "# Ejemplo Práctico\r\n",
        "\r\n",
        "print(\"Bienvenido a club pingüin\")\r\n",
        "print(\" \")\r\n",
        "\r\n",
        "edad = 18\r\n",
        "print(\"Tienes \" + str(edad) + \" años\")\r\n",
        "\r\n",
        "if edad < 18:                                 # RECUERDA LOS OPERADORES \r\n",
        "  print(\"Necesitas permiso de tus padres\")\r\n",
        "else: \r\n",
        "  print(\"Crear cuenta\")\r\n",
        "\r\n",
        "\r\n",
        "# INTENTA CAMBIAR EL VALOR DE EDAD Y LA CONDICIÓN VARIAS VECES PARA VER QUÉ SUCEDE"
      ],
      "execution_count": 5,
      "outputs": [
        {
          "output_type": "stream",
          "text": [
            "Bienvenido a club pingüin\n",
            " \n",
            "Tienes 18 años\n",
            "Crear cuenta\n"
          ],
          "name": "stdout"
        }
      ]
    },
    {
      "cell_type": "code",
      "metadata": {
        "id": "EhI9xmNyd6n4"
      },
      "source": [
        "#ELIF\r\n",
        "#Si tu quisieras agregar más de una condición para realizar diferentes acciones, puedes usar elif para este caso\r\n",
        "Hambre = True\r\n",
        "Sed = False\r\n",
        "\r\n",
        "if not Hambre:                 # CON \"not\" cambias el valor booleano, not True = False y not False = True\r\n",
        "  print(\"Come algo\")\r\n",
        "elif not Sed:\r\n",
        "  print(\"Bebe algo\")\r\n",
        "else:\r\n",
        "  print(\"Estás satisfecho\")"
      ],
      "execution_count": null,
      "outputs": []
    },
    {
      "cell_type": "code",
      "metadata": {
        "colab": {
          "base_uri": "https://localhost:8080/"
        },
        "id": "G7XXgCPydTvs",
        "outputId": "7b299b96-55f8-4b70-c450-78a16dbfe954"
      },
      "source": [
        "# Variación del anterior código con valores booleanos\r\n",
        "\r\n",
        "Carne_doble_triple = True\r\n",
        "Salsa_de_coral = True \r\n",
        "Decorado_de_lujo = True\r\n",
        "Estilo_animal = True \r\n",
        "Guijarros_extra = True\r\n",
        "Vibración_exprimida = True\r\n",
        "Eje_con_grasa_ligera = True\r\n",
        "Hazlo_llorar = True\r\n",
        "Quemado = True \r\n",
        "Nadando = True\r\n",
        "Pepinillos = True\r\n",
        "\r\n",
        "\r\n",
        "if (Carne_doble_triple and \r\n",
        "Salsa_de_coral and\r\n",
        "Decorado_de_lujo and\r\n",
        "Estilo_animal and \r\n",
        "Guijarros_extra and\r\n",
        "Vibración_exprimida and\r\n",
        "Eje_con_grasa_ligera and \r\n",
        "Hazlo_llorar and\r\n",
        "Quemado and\r\n",
        "Nadando and\r\n",
        "Pepinillos ):\r\n",
        "  print(\"Quiere la kangreburguer\")\r\n",
        "else:\r\n",
        "  print(\"No quiere la kangrebuger\")"
      ],
      "execution_count": 1,
      "outputs": [
        {
          "output_type": "stream",
          "text": [
            "Quiere la kangreburguer\n"
          ],
          "name": "stdout"
        }
      ]
    },
    {
      "cell_type": "code",
      "metadata": {
        "colab": {
          "base_uri": "https://localhost:8080/"
        },
        "id": "-87pPMhYdcMb",
        "outputId": "1b0793b4-5ca7-47fe-94d1-b384ea59fdbe"
      },
      "source": [
        "#Tarea\r\n",
        "# Variación del anterior código con valores booleanos\r\n",
        "\r\n",
        "Carne_doble_triple = False\r\n",
        "Salsa_de_coral = False\r\n",
        "Decorado_de_lujo = False\r\n",
        "Estilo_animal = False \r\n",
        "Guijarros_extra = False\r\n",
        "Vibración_exprimida = False\r\n",
        "Eje_con_grasa_ligera = False\r\n",
        "Hazlo_llorar = False\r\n",
        "Quemado = False\r\n",
        "Nadando = False\r\n",
        "Pepinillos = False\r\n",
        "\r\n",
        "\r\n",
        "if (Carne_doble_triple and \r\n",
        "Salsa_de_coral and\r\n",
        "Decorado_de_lujo and\r\n",
        "Estilo_animal and \r\n",
        "Guijarros_extra and\r\n",
        "Vibración_exprimida and\r\n",
        "Eje_con_grasa_ligera and \r\n",
        "Hazlo_llorar and\r\n",
        "Quemado and\r\n",
        "Nadando and\r\n",
        "Pepinillos ):\r\n",
        "  print(\"Quiere la kangreburguer\")\r\n",
        "else:\r\n",
        "  print(\"No quiere la kangrebuger\")"
      ],
      "execution_count": 2,
      "outputs": [
        {
          "output_type": "stream",
          "text": [
            "No quiere la kangrebuger\n"
          ],
          "name": "stdout"
        }
      ]
    }
  ]
}