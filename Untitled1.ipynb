{
  "nbformat": 4,
  "nbformat_minor": 0,
  "metadata": {
    "colab": {
      "name": "Untitled1.ipynb",
      "provenance": [],
      "authorship_tag": "ABX9TyMTlUxEco33nxsQqzxk8eqQ",
      "include_colab_link": true
    },
    "kernelspec": {
      "name": "python3",
      "display_name": "Python 3"
    }
  },
  "cells": [
    {
      "cell_type": "markdown",
      "metadata": {
        "id": "view-in-github",
        "colab_type": "text"
      },
      "source": [
        "<a href=\"https://colab.research.google.com/github/Nath0707/Introduccion_a_Python-Curso_Online/blob/main/Untitled1.ipynb\" target=\"_parent\"><img src=\"https://colab.research.google.com/assets/colab-badge.svg\" alt=\"Open In Colab\"/></a>"
      ]
    },
    {
      "cell_type": "code",
      "metadata": {
        "id": "fpsXWVyS4u83",
        "colab": {
          "base_uri": "https://localhost:8080/"
        },
        "outputId": "87a2cdc3-c0e1-4866-913c-64f9c8931be5"
      },
      "source": [
        "#Variables\r\n",
        "numero = 17\r\n",
        "decimal = 0.7\r\n",
        "texto = \"texto\"\r\n",
        "boolean = True\r\n",
        "\r\n",
        "print(numero)\r\n",
        "print(type(numero))"
      ],
      "execution_count": 1,
      "outputs": [
        {
          "output_type": "stream",
          "text": [
            "17\n",
            "<class 'int'>\n"
          ],
          "name": "stdout"
        }
      ]
    },
    {
      "cell_type": "code",
      "metadata": {
        "colab": {
          "base_uri": "https://localhost:8080/"
        },
        "id": "WhV4Ugz1btet",
        "outputId": "c9d4bbc0-20fd-4ef1-991a-bef034150c23"
      },
      "source": [
        "tupla = ('hola', 2)\r\n",
        "lista = [1,2,3,4,5]\r\n",
        "set_ = {1,2,3,4,5,1}\r\n",
        "diccionario = {2:2, 3:2}\r\n",
        "\r\n",
        "print(tupla)\r\n",
        "print(type(tupla))\r\n",
        "print(lista)\r\n",
        "print(type(lista))\r\n",
        "print(set_)\r\n",
        "print(type(set_))\r\n",
        "print(diccionario)\r\n",
        "print(type(diccionario))"
      ],
      "execution_count": 8,
      "outputs": [
        {
          "output_type": "stream",
          "text": [
            "('hola', 2)\n",
            "<class 'tuple'>\n",
            "[1, 2, 3, 4, 5]\n",
            "<class 'list'>\n",
            "{1, 2, 3, 4, 5}\n",
            "<class 'set'>\n",
            "{2: 2, 3: 2}\n",
            "<class 'dict'>\n"
          ],
          "name": "stdout"
        }
      ]
    },
    {
      "cell_type": "code",
      "metadata": {
        "colab": {
          "base_uri": "https://localhost:8080/"
        },
        "id": "dPz3FkTOe_hy",
        "outputId": "d3e3fe38-0374-4c88-b021-62a5e4b4e9f9"
      },
      "source": [
        "#conversión de variables\r\n",
        "a=3\r\n",
        "b=\"12\"\r\n",
        "c=a*b\r\n",
        "print(c)"
      ],
      "execution_count": 9,
      "outputs": [
        {
          "output_type": "stream",
          "text": [
            "121212\n"
          ],
          "name": "stdout"
        }
      ]
    },
    {
      "cell_type": "code",
      "metadata": {
        "colab": {
          "base_uri": "https://localhost:8080/"
        },
        "id": "ddYpiP5ifoSQ",
        "outputId": "d7e0cf06-a90e-493d-ecc4-a87d6f0603e2"
      },
      "source": [
        "r=\"12\"\r\n",
        "r=\"12.7\"\r\n",
        "print(type(r))\r\n",
        "r= float(r)\r\n",
        "#r=str(r)\r\n",
        "#r= int(r)\r\n",
        "print(type(r))\r\n",
        "#s=r+\"t\"\r\n",
        "s=r+2\r\n",
        "print(s)"
      ],
      "execution_count": 14,
      "outputs": [
        {
          "output_type": "stream",
          "text": [
            "<class 'str'>\n",
            "<class 'float'>\n",
            "14.7\n"
          ],
          "name": "stdout"
        }
      ]
    },
    {
      "cell_type": "code",
      "metadata": {
        "colab": {
          "base_uri": "https://localhost:8080/"
        },
        "id": "ECafqVJKkHe0",
        "outputId": "674dbbe2-cedb-4a4c-d393-29940b40271b"
      },
      "source": [
        "edad= float(input(\"Edad: \"))\r\n",
        "print(edad)\r\n",
        "print(type(edad))\r\n",
        "edadn= edad+2*3\r\n",
        "print(edadn)"
      ],
      "execution_count": 16,
      "outputs": [
        {
          "output_type": "stream",
          "text": [
            "Edad: 20\n",
            "20.0\n",
            "<class 'float'>\n",
            "26.0\n"
          ],
          "name": "stdout"
        }
      ]
    }
  ]
}